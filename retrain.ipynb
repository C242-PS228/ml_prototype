{
 "cells": [
  {
   "cell_type": "code",
   "execution_count": 1,
   "metadata": {},
   "outputs": [
    {
     "name": "stderr",
     "output_type": "stream",
     "text": [
      "d:\\COURSE\\Computer science\\Bangkit\\Project\\GradioProto\\venv\\Lib\\site-packages\\tqdm\\auto.py:21: TqdmWarning: IProgress not found. Please update jupyter and ipywidgets. See https://ipywidgets.readthedocs.io/en/stable/user_install.html\n",
      "  from .autonotebook import tqdm as notebook_tqdm\n"
     ]
    }
   ],
   "source": [
    "import utils\n",
    "import tensorflow as tf\n",
    "import pandas as pd\n",
    "from sklearn.model_selection import train_test_split"
   ]
  },
  {
   "cell_type": "markdown",
   "metadata": {},
   "source": [
    "## Data"
   ]
  },
  {
   "cell_type": "code",
   "execution_count": 2,
   "metadata": {},
   "outputs": [
    {
     "name": "stdout",
     "output_type": "stream",
     "text": [
      "<class 'pandas.core.frame.DataFrame'>\n",
      "RangeIndex: 1654 entries, 0 to 1653\n",
      "Data columns (total 4 columns):\n",
      " #   Column    Non-Null Count  Dtype \n",
      "---  ------    --------------  ----- \n",
      " 0   reviews   1654 non-null   object\n",
      " 1   negative  1654 non-null   bool  \n",
      " 2   neutral   1654 non-null   bool  \n",
      " 3   positive  1654 non-null   bool  \n",
      "dtypes: bool(3), object(1)\n",
      "memory usage: 17.9+ KB\n",
      "Length of training data: 16654\n",
      "Length of validation data: 1595\n",
      "Length of test data: 500\n"
     ]
    }
   ],
   "source": [
    "url = 'https://drive.google.com/file/d/1dTEHbfhnhQxJ_9cKHJCoWaabhofvgH9s/view?usp=drive_link'\n",
    "url ='https://drive.google.com/uc?id=' + url.split('/')[-2]\n",
    "\n",
    "train_df = pd.read_csv(url)\n",
    "\n",
    "url = 'https://drive.google.com/file/d/1-SB_3mNX6ICzoaavq-5DIYNrcL6YPbjc/view?usp=drive_link'\n",
    "url ='https://drive.google.com/uc?id=' + url.split('/')[-2]\n",
    "\n",
    "valid_df = pd.read_csv(url)\n",
    "\n",
    "url = 'https://drive.google.com/file/d/1X3rYSVNuRWBe3XUHMkRjMqgpfKpl5L34/view?usp=drive_link'\n",
    "url ='https://drive.google.com/uc?id=' + url.split('/')[-2]\n",
    "\n",
    "test_df = pd.read_csv(url)\n",
    "\n",
    "train_df['reviews'] = train_df['reviews'].astype(str)\n",
    "valid_df['reviews'] = valid_df['reviews'].astype(str)\n",
    "test_df['reviews'] = test_df['reviews'].astype(str)\n",
    "\n",
    "url = 'https://drive.google.com/file/d/1yF86bZBUDgKPGjmd-daJnBKgxaehByff/view?usp=drive_link'\n",
    "url = 'https://drive.google.com/uc?id=' + url.split('/')[-2]\n",
    "data_df = pd.read_csv(url)\n",
    "\n",
    "data_df['reviews'] = data_df['reviews'].astype(str)\n",
    "\n",
    "data_df.columns = train_df.columns\n",
    "\n",
    "train_data_df, valid_data_df = train_test_split(data_df, train_size=4000, random_state=42)\n",
    "\n",
    "train_df = pd.concat([train_df, train_data_df], ignore_index=True)\n",
    "valid_df = pd.concat([valid_df, valid_data_df], ignore_index=True)\n",
    "\n",
    "url = 'https://drive.google.com/file/d/14MndabbQdo8LCzm40ReGZkGAo0G1wb4r/view?usp=sharing'\n",
    "url = 'https://drive.google.com/uc?id=' + url.split('/')[-2]\n",
    "data_df = pd.read_csv(url)\n",
    "data_df\n",
    "data_df['reviews'] = data_df['reviews'].astype(str)\n",
    "data_df.columns = train_df.columns\n",
    "data_df.info()\n",
    "\n",
    "train_df = pd.concat([train_df, data_df], ignore_index=True)\n",
    "\n",
    "print(f\"Length of training data: {len(train_df)}\")\n",
    "print(f\"Length of validation data: {len(valid_df)}\")\n",
    "print(f\"Length of test data: {len(test_df)}\")"
   ]
  },
  {
   "cell_type": "code",
   "execution_count": 3,
   "metadata": {},
   "outputs": [],
   "source": [
    "neg_data = {\n",
    "    'reviews': [\n",
    "        \"Jaringan kacau banget bgst\",\n",
    "        \"Bgst nih aplikasi, selalu force close pas lagi penting.\",\n",
    "        \"Pelayanannya lama banget bgst.\",\n",
    "        \"Harga mahal kualitas nol, bgst banget deh.\",\n",
    "        \"Udah nunggu sejam lebih bgst, masih gak ada kejelasan!\",\n",
    "        \"Layanan cs-nya gak membantu sama sekali, bgst bener.\",\n",
    "        \"Bgst ini barang, baru beli udah rusak.\",\n",
    "        \"Koneksi lemot parah bgst, kapan beresnya?\",\n",
    "        \"Refundnya lama banget, bgst gak ada solusinya.\",\n",
    "        \"Paket datang udah hancur bgst, siapa yang tanggung jawab?\",\n",
    "        \"Sistem sering error, bgst banget bikin emosi.\",\n",
    "        \"Bgst layanan ini, bener-bener gak profesional.\",\n",
    "        \"Udah bayar mahal, tapi hasil bgst begini.\",\n",
    "        \"Sampai sekarang pesanan gak nyampe, bgst bener.\",\n",
    "        \"Aplikasi sering bug, bgst mending gak usah dipakai.\",\n",
    "        \"Bgst banget servernya, main game aja gak lancar.\",\n",
    "        \"Barang palsu dikirim, bgst.\",\n",
    "        \"Bgst udah bayar mahal tapi kualitas zonk.\",\n",
    "        \"Pelayanannya kasar banget, bgst gak sopan.\",\n",
    "        \"Bgst ini promo bohong, sama sekali gak sesuai janji.\",\n",
    "        \"BGST BANGET\",\n",
    "        \"produk bgst\",\n",
    "        \"cs bgst\",\n",
    "        \"ah bgst\",\n",
    "        \"bgstttt\",\n",
    "        \"penjual bgst\",\n",
    "        \"ngentot\",\n",
    "        \"ngentottt\"\n",
    "    ],\n",
    "      'Negatif': [True] * 28,\n",
    "      'Netral': [False] * 28,\n",
    "      'Positif': [False] * 28,\n",
    "}\n",
    "neg_df = pd.DataFrame(neg_data)\n",
    "\n",
    "neg_df.columns = train_df.columns\n",
    "\n",
    "train_df = pd.concat([train_df, neg_df], ignore_index=True)"
   ]
  },
  {
   "cell_type": "code",
   "execution_count": 4,
   "metadata": {},
   "outputs": [
    {
     "name": "stdout",
     "output_type": "stream",
     "text": [
      "16691\n"
     ]
    }
   ],
   "source": [
    "data = {\n",
    "    'reviews': [\n",
    "        'siaap',\n",
    "        'siaap',\n",
    "        'siaap bang',\n",
    "        'siaapp',\n",
    "        'siaaap',\n",
    "        'siaaappp',\n",
    "        'siaaaap',\n",
    "        'siaaaap',\n",
    "        'siaaaap bang',\n",
    "    ],\n",
    "    'negative': [False] * 9,\n",
    "    'neutral': [True] * 9,\n",
    "    'positive': [False] * 9,\n",
    "}\n",
    "\n",
    "df_data = pd.DataFrame(data)\n",
    "\n",
    "train_df =  pd.concat([train_df, df_data], axis=0).reset_index(drop=True)\n",
    "\n",
    "print(len(train_df))"
   ]
  },
  {
   "cell_type": "markdown",
   "metadata": {},
   "source": [
    "## Model"
   ]
  },
  {
   "cell_type": "code",
   "execution_count": 37,
   "metadata": {},
   "outputs": [
    {
     "name": "stderr",
     "output_type": "stream",
     "text": [
      "WARNING:absl:Compiled the loaded model, but the compiled metrics have yet to be built. `model.compile_metrics` will be empty until you train or evaluate the model.\n"
     ]
    }
   ],
   "source": [
    "model = utils.load_nlp_model('model/bert_attention_v12.h5')\n",
    "tokenizer = utils.load_tokenizer('tokenizer')"
   ]
  },
  {
   "cell_type": "code",
   "execution_count": 38,
   "metadata": {},
   "outputs": [
    {
     "data": {
      "text/html": [
       "<pre style=\"white-space:pre;overflow-x:auto;line-height:normal;font-family:Menlo,'DejaVu Sans Mono',consolas,'Courier New',monospace\"><span style=\"font-weight: bold\">Model: \"functional_2\"</span>\n",
       "</pre>\n"
      ],
      "text/plain": [
       "\u001b[1mModel: \"functional_2\"\u001b[0m\n"
      ]
     },
     "metadata": {},
     "output_type": "display_data"
    },
    {
     "data": {
      "text/html": [
       "<pre style=\"white-space:pre;overflow-x:auto;line-height:normal;font-family:Menlo,'DejaVu Sans Mono',consolas,'Courier New',monospace\">┏━━━━━━━━━━━━━━━━━━━━━┳━━━━━━━━━━━━━━━━━━━┳━━━━━━━━━━━━┳━━━━━━━━━━━━━━━━━━━┓\n",
       "┃<span style=\"font-weight: bold\"> Layer (type)        </span>┃<span style=\"font-weight: bold\"> Output Shape      </span>┃<span style=\"font-weight: bold\">    Param # </span>┃<span style=\"font-weight: bold\"> Connected to      </span>┃\n",
       "┡━━━━━━━━━━━━━━━━━━━━━╇━━━━━━━━━━━━━━━━━━━╇━━━━━━━━━━━━╇━━━━━━━━━━━━━━━━━━━┩\n",
       "│ input_layer_2       │ (<span style=\"color: #00d7ff; text-decoration-color: #00d7ff\">None</span>, <span style=\"color: #00af00; text-decoration-color: #00af00\">128</span>)       │          <span style=\"color: #00af00; text-decoration-color: #00af00\">0</span> │ -                 │\n",
       "│ (<span style=\"color: #0087ff; text-decoration-color: #0087ff\">InputLayer</span>)        │                   │            │                   │\n",
       "├─────────────────────┼───────────────────┼────────────┼───────────────────┤\n",
       "│ embedding_2         │ (<span style=\"color: #00d7ff; text-decoration-color: #00d7ff\">None</span>, <span style=\"color: #00af00; text-decoration-color: #00af00\">128</span>, <span style=\"color: #00af00; text-decoration-color: #00af00\">768</span>)  │ <span style=\"color: #00af00; text-decoration-color: #00af00\">24,516,864</span> │ input_layer_2[<span style=\"color: #00af00; text-decoration-color: #00af00\">0</span>]… │\n",
       "│ (<span style=\"color: #0087ff; text-decoration-color: #0087ff\">Embedding</span>)         │                   │            │                   │\n",
       "├─────────────────────┼───────────────────┼────────────┼───────────────────┤\n",
       "│ bidirectional_2     │ (<span style=\"color: #00d7ff; text-decoration-color: #00d7ff\">None</span>, <span style=\"color: #00af00; text-decoration-color: #00af00\">128</span>, <span style=\"color: #00af00; text-decoration-color: #00af00\">256</span>)  │    <span style=\"color: #00af00; text-decoration-color: #00af00\">918,528</span> │ embedding_2[<span style=\"color: #00af00; text-decoration-color: #00af00\">0</span>][<span style=\"color: #00af00; text-decoration-color: #00af00\">0</span>] │\n",
       "│ (<span style=\"color: #0087ff; text-decoration-color: #0087ff\">Bidirectional</span>)     │                   │            │                   │\n",
       "├─────────────────────┼───────────────────┼────────────┼───────────────────┤\n",
       "│ attention_1         │ (<span style=\"color: #00d7ff; text-decoration-color: #00d7ff\">None</span>, <span style=\"color: #00af00; text-decoration-color: #00af00\">128</span>, <span style=\"color: #00af00; text-decoration-color: #00af00\">256</span>)  │          <span style=\"color: #00af00; text-decoration-color: #00af00\">0</span> │ bidirectional_2[<span style=\"color: #00af00; text-decoration-color: #00af00\">…</span> │\n",
       "│ (<span style=\"color: #0087ff; text-decoration-color: #0087ff\">Attention</span>)         │                   │            │ bidirectional_2[<span style=\"color: #00af00; text-decoration-color: #00af00\">…</span> │\n",
       "├─────────────────────┼───────────────────┼────────────┼───────────────────┤\n",
       "│ global_average_poo… │ (<span style=\"color: #00d7ff; text-decoration-color: #00d7ff\">None</span>, <span style=\"color: #00af00; text-decoration-color: #00af00\">256</span>)       │          <span style=\"color: #00af00; text-decoration-color: #00af00\">0</span> │ attention_1[<span style=\"color: #00af00; text-decoration-color: #00af00\">0</span>][<span style=\"color: #00af00; text-decoration-color: #00af00\">0</span>] │\n",
       "│ (<span style=\"color: #0087ff; text-decoration-color: #0087ff\">GlobalAveragePool…</span> │                   │            │                   │\n",
       "├─────────────────────┼───────────────────┼────────────┼───────────────────┤\n",
       "│ dense_4 (<span style=\"color: #0087ff; text-decoration-color: #0087ff\">Dense</span>)     │ (<span style=\"color: #00d7ff; text-decoration-color: #00d7ff\">None</span>, <span style=\"color: #00af00; text-decoration-color: #00af00\">128</span>)       │     <span style=\"color: #00af00; text-decoration-color: #00af00\">32,896</span> │ global_average_p… │\n",
       "├─────────────────────┼───────────────────┼────────────┼───────────────────┤\n",
       "│ dropout_2 (<span style=\"color: #0087ff; text-decoration-color: #0087ff\">Dropout</span>) │ (<span style=\"color: #00d7ff; text-decoration-color: #00d7ff\">None</span>, <span style=\"color: #00af00; text-decoration-color: #00af00\">128</span>)       │          <span style=\"color: #00af00; text-decoration-color: #00af00\">0</span> │ dense_4[<span style=\"color: #00af00; text-decoration-color: #00af00\">0</span>][<span style=\"color: #00af00; text-decoration-color: #00af00\">0</span>]     │\n",
       "├─────────────────────┼───────────────────┼────────────┼───────────────────┤\n",
       "│ dense_5 (<span style=\"color: #0087ff; text-decoration-color: #0087ff\">Dense</span>)     │ (<span style=\"color: #00d7ff; text-decoration-color: #00d7ff\">None</span>, <span style=\"color: #00af00; text-decoration-color: #00af00\">3</span>)         │        <span style=\"color: #00af00; text-decoration-color: #00af00\">387</span> │ dropout_2[<span style=\"color: #00af00; text-decoration-color: #00af00\">0</span>][<span style=\"color: #00af00; text-decoration-color: #00af00\">0</span>]   │\n",
       "└─────────────────────┴───────────────────┴────────────┴───────────────────┘\n",
       "</pre>\n"
      ],
      "text/plain": [
       "┏━━━━━━━━━━━━━━━━━━━━━┳━━━━━━━━━━━━━━━━━━━┳━━━━━━━━━━━━┳━━━━━━━━━━━━━━━━━━━┓\n",
       "┃\u001b[1m \u001b[0m\u001b[1mLayer (type)       \u001b[0m\u001b[1m \u001b[0m┃\u001b[1m \u001b[0m\u001b[1mOutput Shape     \u001b[0m\u001b[1m \u001b[0m┃\u001b[1m \u001b[0m\u001b[1m   Param #\u001b[0m\u001b[1m \u001b[0m┃\u001b[1m \u001b[0m\u001b[1mConnected to     \u001b[0m\u001b[1m \u001b[0m┃\n",
       "┡━━━━━━━━━━━━━━━━━━━━━╇━━━━━━━━━━━━━━━━━━━╇━━━━━━━━━━━━╇━━━━━━━━━━━━━━━━━━━┩\n",
       "│ input_layer_2       │ (\u001b[38;5;45mNone\u001b[0m, \u001b[38;5;34m128\u001b[0m)       │          \u001b[38;5;34m0\u001b[0m │ -                 │\n",
       "│ (\u001b[38;5;33mInputLayer\u001b[0m)        │                   │            │                   │\n",
       "├─────────────────────┼───────────────────┼────────────┼───────────────────┤\n",
       "│ embedding_2         │ (\u001b[38;5;45mNone\u001b[0m, \u001b[38;5;34m128\u001b[0m, \u001b[38;5;34m768\u001b[0m)  │ \u001b[38;5;34m24,516,864\u001b[0m │ input_layer_2[\u001b[38;5;34m0\u001b[0m]… │\n",
       "│ (\u001b[38;5;33mEmbedding\u001b[0m)         │                   │            │                   │\n",
       "├─────────────────────┼───────────────────┼────────────┼───────────────────┤\n",
       "│ bidirectional_2     │ (\u001b[38;5;45mNone\u001b[0m, \u001b[38;5;34m128\u001b[0m, \u001b[38;5;34m256\u001b[0m)  │    \u001b[38;5;34m918,528\u001b[0m │ embedding_2[\u001b[38;5;34m0\u001b[0m][\u001b[38;5;34m0\u001b[0m] │\n",
       "│ (\u001b[38;5;33mBidirectional\u001b[0m)     │                   │            │                   │\n",
       "├─────────────────────┼───────────────────┼────────────┼───────────────────┤\n",
       "│ attention_1         │ (\u001b[38;5;45mNone\u001b[0m, \u001b[38;5;34m128\u001b[0m, \u001b[38;5;34m256\u001b[0m)  │          \u001b[38;5;34m0\u001b[0m │ bidirectional_2[\u001b[38;5;34m…\u001b[0m │\n",
       "│ (\u001b[38;5;33mAttention\u001b[0m)         │                   │            │ bidirectional_2[\u001b[38;5;34m…\u001b[0m │\n",
       "├─────────────────────┼───────────────────┼────────────┼───────────────────┤\n",
       "│ global_average_poo… │ (\u001b[38;5;45mNone\u001b[0m, \u001b[38;5;34m256\u001b[0m)       │          \u001b[38;5;34m0\u001b[0m │ attention_1[\u001b[38;5;34m0\u001b[0m][\u001b[38;5;34m0\u001b[0m] │\n",
       "│ (\u001b[38;5;33mGlobalAveragePool…\u001b[0m │                   │            │                   │\n",
       "├─────────────────────┼───────────────────┼────────────┼───────────────────┤\n",
       "│ dense_4 (\u001b[38;5;33mDense\u001b[0m)     │ (\u001b[38;5;45mNone\u001b[0m, \u001b[38;5;34m128\u001b[0m)       │     \u001b[38;5;34m32,896\u001b[0m │ global_average_p… │\n",
       "├─────────────────────┼───────────────────┼────────────┼───────────────────┤\n",
       "│ dropout_2 (\u001b[38;5;33mDropout\u001b[0m) │ (\u001b[38;5;45mNone\u001b[0m, \u001b[38;5;34m128\u001b[0m)       │          \u001b[38;5;34m0\u001b[0m │ dense_4[\u001b[38;5;34m0\u001b[0m][\u001b[38;5;34m0\u001b[0m]     │\n",
       "├─────────────────────┼───────────────────┼────────────┼───────────────────┤\n",
       "│ dense_5 (\u001b[38;5;33mDense\u001b[0m)     │ (\u001b[38;5;45mNone\u001b[0m, \u001b[38;5;34m3\u001b[0m)         │        \u001b[38;5;34m387\u001b[0m │ dropout_2[\u001b[38;5;34m0\u001b[0m][\u001b[38;5;34m0\u001b[0m]   │\n",
       "└─────────────────────┴───────────────────┴────────────┴───────────────────┘\n"
      ]
     },
     "metadata": {},
     "output_type": "display_data"
    },
    {
     "data": {
      "text/html": [
       "<pre style=\"white-space:pre;overflow-x:auto;line-height:normal;font-family:Menlo,'DejaVu Sans Mono',consolas,'Courier New',monospace\"><span style=\"font-weight: bold\"> Total params: </span><span style=\"color: #00af00; text-decoration-color: #00af00\">25,468,675</span> (97.16 MB)\n",
       "</pre>\n"
      ],
      "text/plain": [
       "\u001b[1m Total params: \u001b[0m\u001b[38;5;34m25,468,675\u001b[0m (97.16 MB)\n"
      ]
     },
     "metadata": {},
     "output_type": "display_data"
    },
    {
     "data": {
      "text/html": [
       "<pre style=\"white-space:pre;overflow-x:auto;line-height:normal;font-family:Menlo,'DejaVu Sans Mono',consolas,'Courier New',monospace\"><span style=\"font-weight: bold\"> Trainable params: </span><span style=\"color: #00af00; text-decoration-color: #00af00\">951,811</span> (3.63 MB)\n",
       "</pre>\n"
      ],
      "text/plain": [
       "\u001b[1m Trainable params: \u001b[0m\u001b[38;5;34m951,811\u001b[0m (3.63 MB)\n"
      ]
     },
     "metadata": {},
     "output_type": "display_data"
    },
    {
     "data": {
      "text/html": [
       "<pre style=\"white-space:pre;overflow-x:auto;line-height:normal;font-family:Menlo,'DejaVu Sans Mono',consolas,'Courier New',monospace\"><span style=\"font-weight: bold\"> Non-trainable params: </span><span style=\"color: #00af00; text-decoration-color: #00af00\">24,516,864</span> (93.52 MB)\n",
       "</pre>\n"
      ],
      "text/plain": [
       "\u001b[1m Non-trainable params: \u001b[0m\u001b[38;5;34m24,516,864\u001b[0m (93.52 MB)\n"
      ]
     },
     "metadata": {},
     "output_type": "display_data"
    }
   ],
   "source": [
    "model.compile(optimizer=tf.keras.optimizers.Nadam(1e-4), loss=tf.keras.losses.CategoricalCrossentropy(from_logits=True), metrics=['accuracy'])\n",
    "model.summary()"
   ]
  },
  {
   "cell_type": "code",
   "execution_count": 14,
   "metadata": {},
   "outputs": [],
   "source": [
    "train_reviews = train_df['reviews']\n",
    "valid_reviews = valid_df['reviews']\n",
    "test_reviews = test_df['reviews']\n",
    "\n",
    "train_pre_reviews = [utils.preprocess_text(text) for text in train_reviews]\n",
    "valid_pre_reviews = [utils.preprocess_text(text) for text in valid_reviews]\n",
    "test_pre_reviews = [utils.preprocess_text(text) for text in test_reviews]"
   ]
  },
  {
   "cell_type": "code",
   "execution_count": 15,
   "metadata": {},
   "outputs": [],
   "source": [
    "y_train = train_df.drop(columns='reviews')\n",
    "y_valid = valid_df.drop(columns='reviews')\n",
    "y_test = test_df.drop(columns='reviews')"
   ]
  },
  {
   "cell_type": "code",
   "execution_count": 16,
   "metadata": {},
   "outputs": [],
   "source": [
    "X_train_tokenized = utils.tokenize_batch(train_pre_reviews, tokenizer=tokenizer)\n",
    "X_valid_tokenized = utils.tokenize_batch(valid_pre_reviews, tokenizer=tokenizer)\n",
    "X_test_tokenized = utils.tokenize_batch(test_pre_reviews, tokenizer=tokenizer)"
   ]
  },
  {
   "cell_type": "code",
   "execution_count": 17,
   "metadata": {},
   "outputs": [
    {
     "data": {
      "text/plain": [
       "<tf.Tensor: shape=(16691, 128), dtype=int32, numpy=\n",
       "array([[   3, 8389, 4822, ...,    0,    0,    0],\n",
       "       [   3, 9153, 4515, ...,    0,    0,    0],\n",
       "       [   3, 3197, 6783, ...,    0,    0,    0],\n",
       "       ...,\n",
       "       [   3, 7083, 7823, ...,    0,    0,    0],\n",
       "       [   3, 7083, 7823, ...,    0,    0,    0],\n",
       "       [   3, 7083, 7823, ...,    0,    0,    0]], dtype=int32)>"
      ]
     },
     "execution_count": 17,
     "metadata": {},
     "output_type": "execute_result"
    }
   ],
   "source": [
    "X_train_tokenized"
   ]
  },
  {
   "cell_type": "code",
   "execution_count": 39,
   "metadata": {},
   "outputs": [
    {
     "name": "stdout",
     "output_type": "stream",
     "text": [
      "\u001b[1m522/522\u001b[0m \u001b[32m━━━━━━━━━━━━━━━━━━━━\u001b[0m\u001b[37m\u001b[0m \u001b[1m92s\u001b[0m 169ms/step - accuracy: 0.9400 - loss: 0.1774 - val_accuracy: 0.8752 - val_loss: 0.4279\n"
     ]
    },
    {
     "data": {
      "text/plain": [
       "<keras.src.callbacks.history.History at 0x205ed421150>"
      ]
     },
     "execution_count": 39,
     "metadata": {},
     "output_type": "execute_result"
    }
   ],
   "source": [
    "early_stopping = tf.keras.callbacks.EarlyStopping(\n",
    "    monitor='val_accuracy',     # Metric to monitor\n",
    "    patience=3,                 # Number of epochs to wait before stopping\n",
    "    mode='max',                 # Looking for the maximum value of val_accuracy\n",
    "    restore_best_weights=True   # Restore model weights from the epoch with the best val_accuracy\n",
    ")\n",
    "\n",
    "model.fit   (X_train_tokenized, y_train,\n",
    "            epochs=1,\n",
    "            validation_data=(X_valid_tokenized, y_valid),\n",
    "            callbacks=[early_stopping]\n",
    "            )"
   ]
  },
  {
   "cell_type": "code",
   "execution_count": 42,
   "metadata": {},
   "outputs": [
    {
     "name": "stderr",
     "output_type": "stream",
     "text": [
      "WARNING:absl:You are saving your model as an HDF5 file via `model.save()` or `keras.saving.save_model(model)`. This file format is considered legacy. We recommend using instead the native Keras format, e.g. `model.save('my_model.keras')` or `keras.saving.save_model(model, 'my_model.keras')`. \n"
     ]
    }
   ],
   "source": [
    "model.save('model/bert_attention_V13.h5')"
   ]
  },
  {
   "cell_type": "code",
   "execution_count": 40,
   "metadata": {},
   "outputs": [
    {
     "name": "stdout",
     "output_type": "stream",
     "text": [
      "Test Loss: 0.43\n",
      "Test Accuracy: 0.88\n"
     ]
    }
   ],
   "source": [
    "results = model.evaluate(X_valid_tokenized, y_valid, verbose=0)\n",
    "print(f\"Test Loss: {results[0]:.2f}\")\n",
    "print(f\"Test Accuracy: {results[1]:.2f}\")"
   ]
  },
  {
   "cell_type": "code",
   "execution_count": 41,
   "metadata": {},
   "outputs": [
    {
     "name": "stdout",
     "output_type": "stream",
     "text": [
      "Test Loss: 0.39\n",
      "Test Accuracy: 0.87\n"
     ]
    }
   ],
   "source": [
    "results = model.evaluate(X_test_tokenized, y_test, verbose=0)\n",
    "print(f\"Test Loss: {results[0]:.2f}\")\n",
    "print(f\"Test Accuracy: {results[1]:.2f}\")"
   ]
  },
  {
   "cell_type": "code",
   "execution_count": null,
   "metadata": {},
   "outputs": [],
   "source": []
  },
  {
   "cell_type": "code",
   "execution_count": null,
   "metadata": {},
   "outputs": [],
   "source": []
  }
 ],
 "metadata": {
  "kernelspec": {
   "display_name": "venv",
   "language": "python",
   "name": "python3"
  },
  "language_info": {
   "codemirror_mode": {
    "name": "ipython",
    "version": 3
   },
   "file_extension": ".py",
   "mimetype": "text/x-python",
   "name": "python",
   "nbconvert_exporter": "python",
   "pygments_lexer": "ipython3",
   "version": "3.11.1"
  }
 },
 "nbformat": 4,
 "nbformat_minor": 2
}
