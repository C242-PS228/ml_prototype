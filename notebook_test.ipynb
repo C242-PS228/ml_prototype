{
 "cells": [
  {
   "cell_type": "code",
   "execution_count": 1,
   "metadata": {},
   "outputs": [
    {
     "name": "stderr",
     "output_type": "stream",
     "text": [
      "d:\\COURSE\\Computer science\\Bangkit\\Project\\GradioProto\\venv\\Lib\\site-packages\\tqdm\\auto.py:21: TqdmWarning: IProgress not found. Please update jupyter and ipywidgets. See https://ipywidgets.readthedocs.io/en/stable/user_install.html\n",
      "  from .autonotebook import tqdm as notebook_tqdm\n"
     ]
    }
   ],
   "source": [
    "import pandas as pd\n",
    "from transformers import AutoTokenizer\n",
    "from tensorflow.keras.models import load_model\n",
    "from sklearn.model_selection import train_test_split\n",
    "from utils import emoji_dict, stop_words\n",
    "from nltk.tokenize import RegexpTokenizer\n",
    "import tensorflow as tf\n",
    "import numpy as np\n"
   ]
  },
  {
   "cell_type": "code",
   "execution_count": 2,
   "metadata": {},
   "outputs": [
    {
     "name": "stderr",
     "output_type": "stream",
     "text": [
      "WARNING:absl:Compiled the loaded model, but the compiled metrics have yet to be built. `model.compile_metrics` will be empty until you train or evaluate the model.\n"
     ]
    },
    {
     "data": {
      "text/html": [
       "<pre style=\"white-space:pre;overflow-x:auto;line-height:normal;font-family:Menlo,'DejaVu Sans Mono',consolas,'Courier New',monospace\"><span style=\"font-weight: bold\">Model: \"functional\"</span>\n",
       "</pre>\n"
      ],
      "text/plain": [
       "\u001b[1mModel: \"functional\"\u001b[0m\n"
      ]
     },
     "metadata": {},
     "output_type": "display_data"
    },
    {
     "data": {
      "text/html": [
       "<pre style=\"white-space:pre;overflow-x:auto;line-height:normal;font-family:Menlo,'DejaVu Sans Mono',consolas,'Courier New',monospace\">┏━━━━━━━━━━━━━━━━━━━━━┳━━━━━━━━━━━━━━━━━━━┳━━━━━━━━━━━━┳━━━━━━━━━━━━━━━━━━━┓\n",
       "┃<span style=\"font-weight: bold\"> Layer (type)        </span>┃<span style=\"font-weight: bold\"> Output Shape      </span>┃<span style=\"font-weight: bold\">    Param # </span>┃<span style=\"font-weight: bold\"> Connected to      </span>┃\n",
       "┡━━━━━━━━━━━━━━━━━━━━━╇━━━━━━━━━━━━━━━━━━━╇━━━━━━━━━━━━╇━━━━━━━━━━━━━━━━━━━┩\n",
       "│ input_layer         │ (<span style=\"color: #00d7ff; text-decoration-color: #00d7ff\">None</span>, <span style=\"color: #00af00; text-decoration-color: #00af00\">128</span>)       │          <span style=\"color: #00af00; text-decoration-color: #00af00\">0</span> │ -                 │\n",
       "│ (<span style=\"color: #0087ff; text-decoration-color: #0087ff\">InputLayer</span>)        │                   │            │                   │\n",
       "├─────────────────────┼───────────────────┼────────────┼───────────────────┤\n",
       "│ embedding           │ (<span style=\"color: #00d7ff; text-decoration-color: #00d7ff\">None</span>, <span style=\"color: #00af00; text-decoration-color: #00af00\">128</span>, <span style=\"color: #00af00; text-decoration-color: #00af00\">768</span>)  │ <span style=\"color: #00af00; text-decoration-color: #00af00\">38,400,000</span> │ input_layer[<span style=\"color: #00af00; text-decoration-color: #00af00\">0</span>][<span style=\"color: #00af00; text-decoration-color: #00af00\">0</span>] │\n",
       "│ (<span style=\"color: #0087ff; text-decoration-color: #0087ff\">Embedding</span>)         │                   │            │                   │\n",
       "├─────────────────────┼───────────────────┼────────────┼───────────────────┤\n",
       "│ bidirectional       │ (<span style=\"color: #00d7ff; text-decoration-color: #00d7ff\">None</span>, <span style=\"color: #00af00; text-decoration-color: #00af00\">128</span>, <span style=\"color: #00af00; text-decoration-color: #00af00\">256</span>)  │    <span style=\"color: #00af00; text-decoration-color: #00af00\">918,528</span> │ embedding[<span style=\"color: #00af00; text-decoration-color: #00af00\">0</span>][<span style=\"color: #00af00; text-decoration-color: #00af00\">0</span>]   │\n",
       "│ (<span style=\"color: #0087ff; text-decoration-color: #0087ff\">Bidirectional</span>)     │                   │            │                   │\n",
       "├─────────────────────┼───────────────────┼────────────┼───────────────────┤\n",
       "│ attention           │ (<span style=\"color: #00d7ff; text-decoration-color: #00d7ff\">None</span>, <span style=\"color: #00af00; text-decoration-color: #00af00\">128</span>, <span style=\"color: #00af00; text-decoration-color: #00af00\">256</span>)  │          <span style=\"color: #00af00; text-decoration-color: #00af00\">0</span> │ bidirectional[<span style=\"color: #00af00; text-decoration-color: #00af00\">0</span>]… │\n",
       "│ (<span style=\"color: #0087ff; text-decoration-color: #0087ff\">Attention</span>)         │                   │            │ bidirectional[<span style=\"color: #00af00; text-decoration-color: #00af00\">0</span>]… │\n",
       "├─────────────────────┼───────────────────┼────────────┼───────────────────┤\n",
       "│ global_average_poo… │ (<span style=\"color: #00d7ff; text-decoration-color: #00d7ff\">None</span>, <span style=\"color: #00af00; text-decoration-color: #00af00\">256</span>)       │          <span style=\"color: #00af00; text-decoration-color: #00af00\">0</span> │ attention[<span style=\"color: #00af00; text-decoration-color: #00af00\">0</span>][<span style=\"color: #00af00; text-decoration-color: #00af00\">0</span>]   │\n",
       "│ (<span style=\"color: #0087ff; text-decoration-color: #0087ff\">GlobalAveragePool…</span> │                   │            │                   │\n",
       "├─────────────────────┼───────────────────┼────────────┼───────────────────┤\n",
       "│ dense (<span style=\"color: #0087ff; text-decoration-color: #0087ff\">Dense</span>)       │ (<span style=\"color: #00d7ff; text-decoration-color: #00d7ff\">None</span>, <span style=\"color: #00af00; text-decoration-color: #00af00\">128</span>)       │     <span style=\"color: #00af00; text-decoration-color: #00af00\">32,896</span> │ global_average_p… │\n",
       "├─────────────────────┼───────────────────┼────────────┼───────────────────┤\n",
       "│ dropout (<span style=\"color: #0087ff; text-decoration-color: #0087ff\">Dropout</span>)   │ (<span style=\"color: #00d7ff; text-decoration-color: #00d7ff\">None</span>, <span style=\"color: #00af00; text-decoration-color: #00af00\">128</span>)       │          <span style=\"color: #00af00; text-decoration-color: #00af00\">0</span> │ dense[<span style=\"color: #00af00; text-decoration-color: #00af00\">0</span>][<span style=\"color: #00af00; text-decoration-color: #00af00\">0</span>]       │\n",
       "├─────────────────────┼───────────────────┼────────────┼───────────────────┤\n",
       "│ dense_1 (<span style=\"color: #0087ff; text-decoration-color: #0087ff\">Dense</span>)     │ (<span style=\"color: #00d7ff; text-decoration-color: #00d7ff\">None</span>, <span style=\"color: #00af00; text-decoration-color: #00af00\">3</span>)         │        <span style=\"color: #00af00; text-decoration-color: #00af00\">387</span> │ dropout[<span style=\"color: #00af00; text-decoration-color: #00af00\">0</span>][<span style=\"color: #00af00; text-decoration-color: #00af00\">0</span>]     │\n",
       "└─────────────────────┴───────────────────┴────────────┴───────────────────┘\n",
       "</pre>\n"
      ],
      "text/plain": [
       "┏━━━━━━━━━━━━━━━━━━━━━┳━━━━━━━━━━━━━━━━━━━┳━━━━━━━━━━━━┳━━━━━━━━━━━━━━━━━━━┓\n",
       "┃\u001b[1m \u001b[0m\u001b[1mLayer (type)       \u001b[0m\u001b[1m \u001b[0m┃\u001b[1m \u001b[0m\u001b[1mOutput Shape     \u001b[0m\u001b[1m \u001b[0m┃\u001b[1m \u001b[0m\u001b[1m   Param #\u001b[0m\u001b[1m \u001b[0m┃\u001b[1m \u001b[0m\u001b[1mConnected to     \u001b[0m\u001b[1m \u001b[0m┃\n",
       "┡━━━━━━━━━━━━━━━━━━━━━╇━━━━━━━━━━━━━━━━━━━╇━━━━━━━━━━━━╇━━━━━━━━━━━━━━━━━━━┩\n",
       "│ input_layer         │ (\u001b[38;5;45mNone\u001b[0m, \u001b[38;5;34m128\u001b[0m)       │          \u001b[38;5;34m0\u001b[0m │ -                 │\n",
       "│ (\u001b[38;5;33mInputLayer\u001b[0m)        │                   │            │                   │\n",
       "├─────────────────────┼───────────────────┼────────────┼───────────────────┤\n",
       "│ embedding           │ (\u001b[38;5;45mNone\u001b[0m, \u001b[38;5;34m128\u001b[0m, \u001b[38;5;34m768\u001b[0m)  │ \u001b[38;5;34m38,400,000\u001b[0m │ input_layer[\u001b[38;5;34m0\u001b[0m][\u001b[38;5;34m0\u001b[0m] │\n",
       "│ (\u001b[38;5;33mEmbedding\u001b[0m)         │                   │            │                   │\n",
       "├─────────────────────┼───────────────────┼────────────┼───────────────────┤\n",
       "│ bidirectional       │ (\u001b[38;5;45mNone\u001b[0m, \u001b[38;5;34m128\u001b[0m, \u001b[38;5;34m256\u001b[0m)  │    \u001b[38;5;34m918,528\u001b[0m │ embedding[\u001b[38;5;34m0\u001b[0m][\u001b[38;5;34m0\u001b[0m]   │\n",
       "│ (\u001b[38;5;33mBidirectional\u001b[0m)     │                   │            │                   │\n",
       "├─────────────────────┼───────────────────┼────────────┼───────────────────┤\n",
       "│ attention           │ (\u001b[38;5;45mNone\u001b[0m, \u001b[38;5;34m128\u001b[0m, \u001b[38;5;34m256\u001b[0m)  │          \u001b[38;5;34m0\u001b[0m │ bidirectional[\u001b[38;5;34m0\u001b[0m]… │\n",
       "│ (\u001b[38;5;33mAttention\u001b[0m)         │                   │            │ bidirectional[\u001b[38;5;34m0\u001b[0m]… │\n",
       "├─────────────────────┼───────────────────┼────────────┼───────────────────┤\n",
       "│ global_average_poo… │ (\u001b[38;5;45mNone\u001b[0m, \u001b[38;5;34m256\u001b[0m)       │          \u001b[38;5;34m0\u001b[0m │ attention[\u001b[38;5;34m0\u001b[0m][\u001b[38;5;34m0\u001b[0m]   │\n",
       "│ (\u001b[38;5;33mGlobalAveragePool…\u001b[0m │                   │            │                   │\n",
       "├─────────────────────┼───────────────────┼────────────┼───────────────────┤\n",
       "│ dense (\u001b[38;5;33mDense\u001b[0m)       │ (\u001b[38;5;45mNone\u001b[0m, \u001b[38;5;34m128\u001b[0m)       │     \u001b[38;5;34m32,896\u001b[0m │ global_average_p… │\n",
       "├─────────────────────┼───────────────────┼────────────┼───────────────────┤\n",
       "│ dropout (\u001b[38;5;33mDropout\u001b[0m)   │ (\u001b[38;5;45mNone\u001b[0m, \u001b[38;5;34m128\u001b[0m)       │          \u001b[38;5;34m0\u001b[0m │ dense[\u001b[38;5;34m0\u001b[0m][\u001b[38;5;34m0\u001b[0m]       │\n",
       "├─────────────────────┼───────────────────┼────────────┼───────────────────┤\n",
       "│ dense_1 (\u001b[38;5;33mDense\u001b[0m)     │ (\u001b[38;5;45mNone\u001b[0m, \u001b[38;5;34m3\u001b[0m)         │        \u001b[38;5;34m387\u001b[0m │ dropout[\u001b[38;5;34m0\u001b[0m][\u001b[38;5;34m0\u001b[0m]     │\n",
       "└─────────────────────┴───────────────────┴────────────┴───────────────────┘\n"
      ]
     },
     "metadata": {},
     "output_type": "display_data"
    },
    {
     "data": {
      "text/html": [
       "<pre style=\"white-space:pre;overflow-x:auto;line-height:normal;font-family:Menlo,'DejaVu Sans Mono',consolas,'Courier New',monospace\"><span style=\"font-weight: bold\"> Total params: </span><span style=\"color: #00af00; text-decoration-color: #00af00\">39,351,814</span> (150.12 MB)\n",
       "</pre>\n"
      ],
      "text/plain": [
       "\u001b[1m Total params: \u001b[0m\u001b[38;5;34m39,351,814\u001b[0m (150.12 MB)\n"
      ]
     },
     "metadata": {},
     "output_type": "display_data"
    },
    {
     "data": {
      "text/html": [
       "<pre style=\"white-space:pre;overflow-x:auto;line-height:normal;font-family:Menlo,'DejaVu Sans Mono',consolas,'Courier New',monospace\"><span style=\"font-weight: bold\"> Trainable params: </span><span style=\"color: #00af00; text-decoration-color: #00af00\">951,811</span> (3.63 MB)\n",
       "</pre>\n"
      ],
      "text/plain": [
       "\u001b[1m Trainable params: \u001b[0m\u001b[38;5;34m951,811\u001b[0m (3.63 MB)\n"
      ]
     },
     "metadata": {},
     "output_type": "display_data"
    },
    {
     "data": {
      "text/html": [
       "<pre style=\"white-space:pre;overflow-x:auto;line-height:normal;font-family:Menlo,'DejaVu Sans Mono',consolas,'Courier New',monospace\"><span style=\"font-weight: bold\"> Non-trainable params: </span><span style=\"color: #00af00; text-decoration-color: #00af00\">38,400,000</span> (146.48 MB)\n",
       "</pre>\n"
      ],
      "text/plain": [
       "\u001b[1m Non-trainable params: \u001b[0m\u001b[38;5;34m38,400,000\u001b[0m (146.48 MB)\n"
      ]
     },
     "metadata": {},
     "output_type": "display_data"
    },
    {
     "data": {
      "text/html": [
       "<pre style=\"white-space:pre;overflow-x:auto;line-height:normal;font-family:Menlo,'DejaVu Sans Mono',consolas,'Courier New',monospace\"><span style=\"font-weight: bold\"> Optimizer params: </span><span style=\"color: #00af00; text-decoration-color: #00af00\">3</span> (16.00 B)\n",
       "</pre>\n"
      ],
      "text/plain": [
       "\u001b[1m Optimizer params: \u001b[0m\u001b[38;5;34m3\u001b[0m (16.00 B)\n"
      ]
     },
     "metadata": {},
     "output_type": "display_data"
    }
   ],
   "source": [
    "model = load_model('model/bert_attention.h5')\n",
    "\n",
    "model.summary()"
   ]
  },
  {
   "cell_type": "code",
   "execution_count": 3,
   "metadata": {},
   "outputs": [],
   "source": [
    "url = 'https://drive.google.com/file/d/1O6Nyg8yI4Kb-VaOlZr33_zkDGBDMrfwg/view?usp=drive_link'\n",
    "url ='https://drive.google.com/uc?id=' + url.split('/')[-2]\n",
    "\n",
    "train_df = pd.read_csv(url)\n",
    "\n",
    "url = 'https://drive.google.com/file/d/1EeIIXUOEQDaHvTDGGvpa61BNVe-ggJIV/view?usp=drive_link'\n",
    "url ='https://drive.google.com/uc?id=' + url.split('/')[-2]\n",
    "\n",
    "valid_df = pd.read_csv(url)\n",
    "\n",
    "url = 'https://drive.google.com/file/d/1Yh4CMGWT-ERZ6T7Q7JPVf2ZjGZx9Sh_O/view?usp=drive_link'\n",
    "url ='https://drive.google.com/uc?id=' + url.split('/')[-2]\n",
    "\n",
    "test_df = pd.read_csv(url)"
   ]
  },
  {
   "cell_type": "code",
   "execution_count": 4,
   "metadata": {},
   "outputs": [],
   "source": [
    "train_df['reviews'] = train_df['reviews'].astype(str)\n",
    "valid_df['reviews'] = valid_df['reviews'].astype(str)\n",
    "test_df['reviews'] = test_df['reviews'].astype(str)"
   ]
  },
  {
   "cell_type": "code",
   "execution_count": 5,
   "metadata": {},
   "outputs": [],
   "source": [
    "url = 'https://drive.google.com/file/d/1-wpLUWpIVBTr0BLHG79cZhHrZ34KFOJs/view?usp=drive_link'\n",
    "url = 'https://drive.google.com/uc?id=' + url.split('/')[-2]\n",
    "data_df = pd.read_csv(url)\n",
    "data_df['reviews'] = data_df['reviews'].astype(str)"
   ]
  },
  {
   "cell_type": "code",
   "execution_count": 6,
   "metadata": {},
   "outputs": [
    {
     "name": "stdout",
     "output_type": "stream",
     "text": [
      "Length of training data: 13140\n",
      "Length of validation data: 1402\n",
      "Length of test data: 463\n"
     ]
    }
   ],
   "source": [
    "data_df.columns = train_df.columns\n",
    "\n",
    "train_data_df, valid_data_df = train_test_split(data_df, train_size=4000, random_state=42)\n",
    "\n",
    "train_df = pd.concat([train_df, train_data_df], ignore_index=True)\n",
    "valid_df = pd.concat([valid_df, valid_data_df], ignore_index=True)\n",
    "\n",
    "print(f\"Length of training data: {len(train_df)}\")\n",
    "print(f\"Length of validation data: {len(valid_df)}\")\n",
    "print(f\"Length of test data: {len(test_df)}\")"
   ]
  },
  {
   "cell_type": "code",
   "execution_count": 7,
   "metadata": {},
   "outputs": [
    {
     "data": {
      "text/html": [
       "<div>\n",
       "<style scoped>\n",
       "    .dataframe tbody tr th:only-of-type {\n",
       "        vertical-align: middle;\n",
       "    }\n",
       "\n",
       "    .dataframe tbody tr th {\n",
       "        vertical-align: top;\n",
       "    }\n",
       "\n",
       "    .dataframe thead th {\n",
       "        text-align: right;\n",
       "    }\n",
       "</style>\n",
       "<table border=\"1\" class=\"dataframe\">\n",
       "  <thead>\n",
       "    <tr style=\"text-align: right;\">\n",
       "      <th></th>\n",
       "      <th>reviews</th>\n",
       "      <th>negative</th>\n",
       "      <th>neutral</th>\n",
       "      <th>positive</th>\n",
       "    </tr>\n",
       "  </thead>\n",
       "  <tbody>\n",
       "    <tr>\n",
       "      <th>0</th>\n",
       "      <td>warung dimiliki pengusaha pabrik puluhan terke...</td>\n",
       "      <td>False</td>\n",
       "      <td>False</td>\n",
       "      <td>True</td>\n",
       "    </tr>\n",
       "    <tr>\n",
       "      <th>1</th>\n",
       "      <td>lokasi strategis jalan sumatera bandung nya ny...</td>\n",
       "      <td>False</td>\n",
       "      <td>False</td>\n",
       "      <td>True</td>\n",
       "    </tr>\n",
       "    <tr>\n",
       "      <th>2</th>\n",
       "      <td>betapa bahagia nya unboxing paket barang nya b...</td>\n",
       "      <td>False</td>\n",
       "      <td>False</td>\n",
       "      <td>True</td>\n",
       "    </tr>\n",
       "    <tr>\n",
       "      <th>3</th>\n",
       "      <td>makanan beragam harga makanan food stall kasir...</td>\n",
       "      <td>False</td>\n",
       "      <td>False</td>\n",
       "      <td>True</td>\n",
       "    </tr>\n",
       "    <tr>\n",
       "      <th>4</th>\n",
       "      <td>pakai kartu kredit bca tidak untung rugi besar</td>\n",
       "      <td>True</td>\n",
       "      <td>False</td>\n",
       "      <td>False</td>\n",
       "    </tr>\n",
       "    <tr>\n",
       "      <th>...</th>\n",
       "      <td>...</td>\n",
       "      <td>...</td>\n",
       "      <td>...</td>\n",
       "      <td>...</td>\n",
       "    </tr>\n",
       "    <tr>\n",
       "      <th>13135</th>\n",
       "      <td>masker camille emang bagus woii lahh emang mas...</td>\n",
       "      <td>False</td>\n",
       "      <td>False</td>\n",
       "      <td>True</td>\n",
       "    </tr>\n",
       "    <tr>\n",
       "      <th>13136</th>\n",
       "      <td>ready kah</td>\n",
       "      <td>False</td>\n",
       "      <td>True</td>\n",
       "      <td>False</td>\n",
       "    </tr>\n",
       "    <tr>\n",
       "      <th>13137</th>\n",
       "      <td>emang langsung putih tpi jgn coba kulit badak ...</td>\n",
       "      <td>False</td>\n",
       "      <td>False</td>\n",
       "      <td>True</td>\n",
       "    </tr>\n",
       "    <tr>\n",
       "      <th>13138</th>\n",
       "      <td>orang jateng cocok bgt manissss</td>\n",
       "      <td>False</td>\n",
       "      <td>False</td>\n",
       "      <td>True</td>\n",
       "    </tr>\n",
       "    <tr>\n",
       "      <th>13139</th>\n",
       "      <td>kecewa bangetttttt beli mie goreng pas diliat ...</td>\n",
       "      <td>True</td>\n",
       "      <td>False</td>\n",
       "      <td>False</td>\n",
       "    </tr>\n",
       "  </tbody>\n",
       "</table>\n",
       "<p>13140 rows × 4 columns</p>\n",
       "</div>"
      ],
      "text/plain": [
       "                                                 reviews  negative  neutral  \\\n",
       "0      warung dimiliki pengusaha pabrik puluhan terke...     False    False   \n",
       "1      lokasi strategis jalan sumatera bandung nya ny...     False    False   \n",
       "2      betapa bahagia nya unboxing paket barang nya b...     False    False   \n",
       "3      makanan beragam harga makanan food stall kasir...     False    False   \n",
       "4         pakai kartu kredit bca tidak untung rugi besar      True    False   \n",
       "...                                                  ...       ...      ...   \n",
       "13135  masker camille emang bagus woii lahh emang mas...     False    False   \n",
       "13136                                          ready kah     False     True   \n",
       "13137  emang langsung putih tpi jgn coba kulit badak ...     False    False   \n",
       "13138                    orang jateng cocok bgt manissss     False    False   \n",
       "13139  kecewa bangetttttt beli mie goreng pas diliat ...      True    False   \n",
       "\n",
       "       positive  \n",
       "0          True  \n",
       "1          True  \n",
       "2          True  \n",
       "3          True  \n",
       "4         False  \n",
       "...         ...  \n",
       "13135      True  \n",
       "13136     False  \n",
       "13137      True  \n",
       "13138      True  \n",
       "13139     False  \n",
       "\n",
       "[13140 rows x 4 columns]"
      ]
     },
     "execution_count": 7,
     "metadata": {},
     "output_type": "execute_result"
    }
   ],
   "source": [
    "train_df"
   ]
  },
  {
   "cell_type": "code",
   "execution_count": 8,
   "metadata": {},
   "outputs": [],
   "source": [
    "# kamus_alay_df = pd.read_csv('https://raw.githubusercontent.com/nasalsabila/kamus-alay/refs/heads/master/colloquial-indonesian-lexicon.csv')\n",
    "# kamus_alay_df"
   ]
  },
  {
   "cell_type": "code",
   "execution_count": 9,
   "metadata": {},
   "outputs": [],
   "source": [
    "# kamus_alay_dict = kamus_alay_df.set_index('slang')['formal'].to_dict()"
   ]
  },
  {
   "cell_type": "code",
   "execution_count": 10,
   "metadata": {},
   "outputs": [],
   "source": [
    "# def df_to_dataset(df, shuffle=True, batch_size=32):\n",
    "#     \"\"\"\n",
    "#     Converts a pandas DataFrame into a TensorFlow Dataset.\n",
    "#     - `reviews` is the text input.\n",
    "#     - Target columns are `negative`, `neutral`, and `positive`.\n",
    "#     \"\"\"\n",
    "#     features = df['reviews']  # Input text\n",
    "#     labels = df[['negative', 'neutral', 'positive']]  # Multi-class targets\n",
    "#     ds = tf.data.Dataset.from_tensor_slices((features, labels))\n",
    "#     if shuffle:\n",
    "#         ds = ds.shuffle(buffer_size=len(df))\n",
    "#     ds = ds.batch(batch_size).prefetch(buffer_size=tf.data.AUTOTUNE)\n",
    "#     return ds\n",
    "\n",
    "# # Convert the datasets\n",
    "# batch_size = 32\n",
    "# train_ds = df_to_dataset(train_df, shuffle=True, batch_size=batch_size)\n",
    "# valid_ds = df_to_dataset(valid_df, shuffle=False, batch_size=batch_size)\n",
    "# test_ds = df_to_dataset(test_df, shuffle=False, batch_size=batch_size)"
   ]
  },
  {
   "cell_type": "code",
   "execution_count": 11,
   "metadata": {},
   "outputs": [],
   "source": [
    "# def preprocess(reviews, label):\n",
    "#     \"\"\"\n",
    "#     Preprocess the reviews using kamus_alay_dict.\n",
    "#     Replace words if found in the dictionary; otherwise, keep the original word.\n",
    "#     \"\"\"\n",
    "#     # Split the reviews into words\n",
    "#     words = tf.strings.split(reviews)\n",
    "\n",
    "#     # Map the dictionary lookup to each word\n",
    "#     def replace_word(word):\n",
    "#         # Use a Python dictionary lookup wrapped in tf.py_function\n",
    "#         def lookup(w):\n",
    "#             return kamus_alay_dict.get(w, w)  # Replace with dict value or keep the same\n",
    "        \n",
    "#         # Apply the lookup function and return\n",
    "#         return tf.py_function(func=lookup, inp=[word], Tout=tf.string)\n",
    "\n",
    "#     # Replace each word using map_fn\n",
    "#     words = tf.map_fn(replace_word, words, fn_output_signature=tf.string)\n",
    "\n",
    "#     # Join words back into a string\n",
    "#     processed_review = tf.strings.reduce_join(words, separator=\" \")\n",
    "\n",
    "#     return processed_review, label\n",
    "\n",
    "\n",
    "\n",
    "# train_ds = train_ds.map(preprocess, num_parallel_calls=tf.data.AUTOTUNE)\n",
    "# valid_ds = valid_ds.map(preprocess, num_parallel_calls=tf.data.AUTOTUNE)\n",
    "# test_ds = test_ds.map(preprocess, num_parallel_calls=tf.data.AUTOTUNE)"
   ]
  },
  {
   "cell_type": "code",
   "execution_count": 12,
   "metadata": {},
   "outputs": [],
   "source": [
    "from transformers import AutoTokenizer\n",
    "\n",
    "tokenizer = AutoTokenizer.from_pretrained(\"tokenizer\")"
   ]
  },
  {
   "cell_type": "code",
   "execution_count": 13,
   "metadata": {},
   "outputs": [],
   "source": [
    "# import tensorflow as tf\n",
    "\n",
    "# def tokenize(text):\n",
    "#     # Tokenize the text using the tokenizer\n",
    "#     return tokenizer(text, padding=\"max_length\", truncation=True, max_length=128, return_tensors=\"tf\")['input_ids']\n",
    "\n",
    "# # Apply tokenization to each review\n",
    "# X_train_tokenized = tf.convert_to_tensor(\n",
    "#     [tokenize(text) for text in train_df['reviews']],\n",
    "#     dtype=tf.int32\n",
    "# )\n",
    "\n",
    "# X_valid_tokenized = tf.convert_to_tensor(\n",
    "#     [tokenize(text) for text in valid_df['reviews']],\n",
    "#     dtype=tf.int32\n",
    "# )\n",
    "\n",
    "# X_test_tokenized = tf.convert_to_tensor(\n",
    "#     [tokenize(text) for text in test_df['reviews']],\n",
    "#     dtype=tf.int32\n",
    "# )\n",
    "\n",
    "# # Convert labels to tensors\n",
    "# y_train = tf.convert_to_tensor(train_df.iloc[:, 1:].values, dtype=tf.int32)\n",
    "# y_valid = tf.convert_to_tensor(valid_df.iloc[:, 1:].values, dtype=tf.int32)\n",
    "# y_test = tf.convert_to_tensor(test_df.iloc[:, 1:].values, dtype=tf.int32)\n",
    "\n",
    "# X_train_tokenized = tf.reshape(X_train_tokenized, (-1, 128))\n",
    "# X_valid_tokenized = tf.reshape(X_valid_tokenized, (-1, 128))\n",
    "# X_test_tokenized = tf.reshape(X_test_tokenized, (-1, 128))\n",
    "\n",
    "# # Check the shapes of the tokenized datasets\n",
    "\n",
    "# print(X_train_tokenized.shape)\n",
    "# print(X_valid_tokenized.shape)\n",
    "# print(X_test_tokenized.shape)\n",
    "\n",
    "def tokenize(text):\n",
    "    return tokenizer(text, padding=\"max_length\", truncation=True, max_length=128, return_tensors=\"tf\")['input_ids']\n",
    "\n",
    "X_train_tokenized = tf.squeeze(tf.stack(train_df['reviews'].map(lambda x: tokenize(x)).tolist()), axis=1)\n",
    "X_valid_tokenized = tf.squeeze(tf.stack(valid_df['reviews'].map(lambda x: tokenize(x)).tolist()), axis=1)\n",
    "X_test_tokenized = tf.squeeze(tf.stack(test_df['reviews'].map(lambda x: tokenize(x)).tolist()), axis=1)\n",
    "\n",
    "y_train = tf.convert_to_tensor(train_df.iloc[1:, 1:].values)\n",
    "y_valid = tf.convert_to_tensor(valid_df.iloc[:, 1:].values)\n",
    "y_test = tf.convert_to_tensor(test_df.iloc[:, 1:].values)"
   ]
  },
  {
   "cell_type": "code",
   "execution_count": 14,
   "metadata": {},
   "outputs": [
    {
     "name": "stdout",
     "output_type": "stream",
     "text": [
      "\u001b[1m15/15\u001b[0m \u001b[32m━━━━━━━━━━━━━━━━━━━━\u001b[0m\u001b[37m\u001b[0m \u001b[1m1s\u001b[0m 69ms/step\n"
     ]
    },
    {
     "data": {
      "text/plain": [
       "array([[ 2.9563203 , -8.189568  , -0.4949314 ],\n",
       "       [ 3.7966728 , -9.818038  , -0.82628053],\n",
       "       [ 6.084931  , -8.723497  , -4.0352902 ],\n",
       "       ...,\n",
       "       [-2.646826  ,  0.17683819,  1.4340731 ],\n",
       "       [-2.3264742 ,  0.52248657,  1.1510234 ],\n",
       "       [ 0.12442549, -1.3774743 ,  0.16445436]], dtype=float32)"
      ]
     },
     "execution_count": 14,
     "metadata": {},
     "output_type": "execute_result"
    }
   ],
   "source": [
    "predictions = model.predict(X_test_tokenized)\n",
    "predictions"
   ]
  },
  {
   "cell_type": "code",
   "execution_count": 27,
   "metadata": {},
   "outputs": [],
   "source": [
    "import heapq\n",
    "\n",
    "def get_top_3_positive_index(predictions):\n",
    "    positive_preds = predictions[:, 2]\n",
    "    pq = []\n",
    "    for i, pred in enumerate(positive_preds):\n",
    "        if np.argmax(predictions[i]) == 2:\n",
    "            heapq.heappush(pq, (-pred, i))\n",
    "    top_3 = []\n",
    "    for _ in range(3):\n",
    "        if pq:\n",
    "            _, task = heapq.heappop(pq)\n",
    "            top_3.append(task)\n",
    "    return top_3\n",
    "\n",
    "def get_top_3_negative_index(predictions):\n",
    "    negative_preds = predictions[:, 0]\n",
    "    pq = []\n",
    "    for i, pred in enumerate(negative_preds):\n",
    "        if np.argmax(predictions[i]) == 0:\n",
    "            heapq.heappush(pq, (-pred, i))\n",
    "    top_3 = []\n",
    "    for _ in range(3):\n",
    "        if pq:\n",
    "            _, task = heapq.heappop(pq)\n",
    "            top_3.append(task)\n",
    "    return top_3\n"
   ]
  },
  {
   "cell_type": "code",
   "execution_count": 28,
   "metadata": {},
   "outputs": [],
   "source": [
    "def indices_to_texts(indices, data):\n",
    "    texts = []\n",
    "    for index in indices:\n",
    "        texts.append(data[index])\n",
    "    return texts\n",
    "\n",
    "def get_top_3_positive_comments(predictions, data):\n",
    "    top_3_positive_idx = get_top_3_positive_index(predictions)\n",
    "    comments = indices_to_texts(top_3_positive_idx, data)\n",
    "\n",
    "    return comments\n",
    "\n",
    "def get_top_3_negative_comments(predictions, data):\n",
    "    top_3_negative_idx = get_top_3_negative_index(predictions)\n",
    "    comments = indices_to_texts(top_3_negative_idx, data)\n",
    "\n",
    "    return comments"
   ]
  },
  {
   "cell_type": "code",
   "execution_count": 34,
   "metadata": {},
   "outputs": [
    {
     "name": "stdout",
     "output_type": "stream",
     "text": [
      "\u001b[1m44/44\u001b[0m \u001b[32m━━━━━━━━━━━━━━━━━━━━\u001b[0m\u001b[37m\u001b[0m \u001b[1m2s\u001b[0m 55ms/step\n",
      "['kecewa banget net direkam tidak firstwkan musim show bener nya diomongin knetz net tidak sesukses sunbae nya tolong czennies kerja keras gue tidak sanggup net knets grup gagal nya', 'marah woy tidak tl tidak scroll tidak refresh mental mengirim pesan langsung lama', 'perlakuan tidak mengenakkan hotel geram marah pelayanan saking buruk nya tidak mengerti hotel berani mencuri barang tidak orang tinggal hotel']\n",
      "['bandung lewatkan ngafe valey dago pakar menikmati makan malam menikmati pemandangan bagus makanan nya enak coba menginap hotel nya berbentuk caravan asyik banget udara nya segar sarapan nya mantap linting capgomeh nya enak banget', 'suasana resto cukup nyaman layanan cukup baik menawarkan beragam menu bahan dasar seafood udang gurame bawal kakap kepiting ayam sayuran gurame goreng gurih renyah sambal mangga nya enak nikmat ayam goreng fillet nya gurih enak gurame bakar kecap dibakar sempurna gurih ratarata masakan nya enak', 'sesuai nama nya zenbu house of mozaru menyajikan mozaru lezat pilihan daging ayam sapi jamur seafood pilihan nasi nya favorit butter rice plus sauce dynamite sauce nya tersedia pilihan keju nya mantap banget yummy mengenyangkan']\n"
     ]
    }
   ],
   "source": [
    "valid_predictions = model.predict(X_valid_tokenized)\n",
    "print(get_top_3_negative_comments(valid_predictions, valid_df['reviews']))\n",
    "print(get_top_3_positive_comments(valid_predictions, valid_df['reviews']))"
   ]
  },
  {
   "cell_type": "code",
   "execution_count": 31,
   "metadata": {},
   "outputs": [
    {
     "data": {
      "text/plain": [
       "['kecewa aplikasi hubungi pusat panggilan cek pemesanan bayar tidak muncul e tiket nya kirim bukti transaksi nya email tidak pusat panggilan menghubungi kecewa',\n",
       " 'mengecewakan pesan tiket dibayar dikasih bukti transfer langsung dikasih nomor e tiket nya tidak konfirmasi mendekati h pesanan kadaluarsa pelayanan buruk pelayanan pelanggan nya tidak sopan kembalikan uang pengembalian dana tiket',\n",
       " 'menyesal tidak sih ganti handphone iphone samsung s hmm menyesal kurang enak pakai s segi camera suka ip segi performa ip batre tidak beda jauh banget s melar buka instagram ckck']"
      ]
     },
     "execution_count": 31,
     "metadata": {},
     "output_type": "execute_result"
    }
   ],
   "source": [
    "get_top_3_negative_comments(predictions, test_df['reviews'])"
   ]
  },
  {
   "cell_type": "code",
   "execution_count": 32,
   "metadata": {},
   "outputs": [
    {
     "data": {
      "text/plain": [
       "['hotel salah hotel wajib dikunjungi buka puasa bareng nya menarik mewah staf nya ramah makanan nya banyaakk jenis nya menu nya komplet suasana nya menyenangkan indah',\n",
       " 'kuliner dicoba ketan jompo gurih manis hangat nya ketan ditaburi bubuk koyah banget menemani malam kota jember harga nya murah ribu suka banget',\n",
       " 'menginap malam keluarga hotel nya bagus bersih fasilitas hotel lengkap breakfast nya enakenak suasana hotel sejuk nyaman cocok pilihan menginap keluarga']"
      ]
     },
     "execution_count": 32,
     "metadata": {},
     "output_type": "execute_result"
    }
   ],
   "source": [
    "get_top_3_positive_comments(predictions, test_df['reviews'])"
   ]
  },
  {
   "cell_type": "code",
   "execution_count": 56,
   "metadata": {},
   "outputs": [
    {
     "data": {
      "text/plain": [
       "'kecewa aplikasi hubungi pusat panggilan cek pemesanan bayar tidak muncul e tiket nya kirim bukti transaksi nya email tidak pusat panggilan menghubungi kecewa'"
      ]
     },
     "execution_count": 56,
     "metadata": {},
     "output_type": "execute_result"
    }
   ],
   "source": [
    "test_df['reviews'][22]"
   ]
  },
  {
   "cell_type": "code",
   "execution_count": 15,
   "metadata": {},
   "outputs": [],
   "source": [
    "def get_prediction_class(predictions):\n",
    "    m, n = predictions.shape\n",
    "    y_pred_class = np.zeros((m, n))\n",
    "    for i in range(m):\n",
    "        max_val = 1e-3\n",
    "        max_j = -1\n",
    "        for j in range(n):\n",
    "            if max_val < predictions[i, j]:\n",
    "                max_val = predictions[i, j]\n",
    "                max_j = j\n",
    "        y_pred_class[i, max_j] = 1\n",
    "    y_pred_class = y_pred_class.astype(bool)\n",
    "    y_pred_class = np.argwhere(y_pred_class)[:, 1]\n",
    "    return y_pred_class"
   ]
  },
  {
   "cell_type": "code",
   "execution_count": 16,
   "metadata": {},
   "outputs": [
    {
     "data": {
      "text/plain": [
       "array([0, 0, 0, 0, 0, 0, 0, 0, 0, 0, 0, 0, 0, 0, 0, 0, 0, 0, 0, 1, 0, 0,\n",
       "       0, 0, 0, 0, 0, 0, 0, 0, 0, 0, 0, 0, 0, 0, 0, 0, 0, 0, 0, 0, 0, 0,\n",
       "       0, 0, 0, 0, 0, 0, 0, 0, 0, 0, 0, 0, 0, 0, 0, 0, 0, 0, 0, 0, 0, 0,\n",
       "       0, 0, 0, 0, 0, 0, 0, 0, 0, 0, 0, 0, 0, 0, 0, 0, 0, 0, 0, 0, 0, 0,\n",
       "       0, 0, 0, 0, 0, 0, 0, 0, 0, 0, 0, 0, 0, 0, 0, 0, 2, 0, 0, 0, 0, 0,\n",
       "       0, 0, 0, 0, 0, 0, 0, 1, 2, 2, 2, 2, 2, 2, 2, 2, 2, 2, 2, 2, 2, 1,\n",
       "       2, 2, 2, 2, 2, 2, 2, 2, 2, 2, 2, 2, 2, 2, 0, 2, 2, 2, 1, 2, 2, 2,\n",
       "       2, 2, 2, 2, 0, 2, 2, 0, 1, 2, 2, 2, 2, 2, 2, 2, 2, 2, 2, 2, 2, 2,\n",
       "       2, 2, 2, 2, 2, 2, 2, 2, 2, 2, 2, 2, 2, 2, 0, 0, 2, 2, 2, 2, 1, 2,\n",
       "       2, 2, 0, 0, 0, 2, 2, 2, 2, 2, 2, 1, 2, 2, 2, 2, 2, 2, 2, 2, 2, 2,\n",
       "       2, 2, 2, 2, 2, 2, 2, 2, 2, 2, 2, 2, 2, 1, 0, 1, 1, 1, 2, 0, 1, 0,\n",
       "       1, 0, 2, 1, 1, 1, 0, 1, 1, 1, 1, 2, 1, 1, 1, 1, 1, 1, 1, 1, 1, 1,\n",
       "       1, 1, 1, 1, 1, 1, 1, 1, 1, 0, 2, 1, 1, 1, 1, 0, 2, 0, 0, 0, 0, 0,\n",
       "       0, 0, 0, 0, 0, 0, 0, 0, 0, 0, 0, 2, 0, 0, 0, 0, 0, 0, 2, 0, 0, 1,\n",
       "       0, 0, 0, 0, 0, 0, 0, 0, 0, 0, 1, 0, 0, 0, 0, 0, 0, 0, 0, 0, 0, 0,\n",
       "       0, 1, 0, 2, 0, 2, 1, 0, 0, 1, 0, 0, 0, 0, 0, 0, 0, 0, 2, 2, 2, 2,\n",
       "       2, 2, 2, 2, 2, 2, 0, 2, 2, 2, 2, 0, 2, 2, 2, 2, 2, 2, 2, 0, 2, 2,\n",
       "       0, 2, 2, 2, 1, 2, 2, 0, 2, 2, 2, 2, 2, 2, 2, 2, 2, 2, 2, 2, 2, 2,\n",
       "       0, 2, 2, 2, 2, 2, 2, 2, 2, 2, 2, 2, 2, 0, 2, 0, 2, 2, 2, 2, 0, 1,\n",
       "       1, 1, 1, 1, 1, 0, 1, 1, 2, 1, 0, 2, 1, 1, 1, 1, 1, 0, 0, 0, 1, 1,\n",
       "       2, 0, 0, 1, 1, 2, 0, 1, 2, 1, 1, 2, 2, 2, 0, 1, 2, 1, 1, 1, 2, 2,\n",
       "       2])"
      ]
     },
     "execution_count": 16,
     "metadata": {},
     "output_type": "execute_result"
    }
   ],
   "source": [
    "predictions_class = get_prediction_class(predictions)\n",
    "predictions_class"
   ]
  },
  {
   "cell_type": "code",
   "execution_count": 17,
   "metadata": {},
   "outputs": [
    {
     "data": {
      "text/plain": [
       "array([ 2.9563203 ,  3.7966728 ,  6.084931  ,  3.2185571 ,  5.9945383 ,\n",
       "        4.831225  ,  9.618999  , 10.481339  ,  7.7947187 , 10.758614  ,\n",
       "        2.8468685 ,  7.9409823 ,  7.125659  ,  8.052052  ,  3.7959647 ,\n",
       "        5.5193553 ,  2.7210753 ,  9.352341  ,  9.726931  ,  1.1093416 ,\n",
       "        7.319113  ,  9.155948  , 13.418212  ,  7.4314623 ,  5.301455  ,\n",
       "        5.6957545 ,  5.8813934 ,  5.333892  , 13.114037  , 10.289615  ,\n",
       "        6.4975467 ,  3.5062249 ,  6.251109  ,  3.3340983 ,  5.06653   ,\n",
       "        7.6433773 ,  9.727084  ,  5.092947  ,  7.302062  ,  3.4700015 ,\n",
       "        8.18744   ,  6.679376  ,  9.967164  ,  8.026849  ,  0.95971805,\n",
       "        6.480126  ,  6.552089  ,  7.834458  ,  4.5079656 ,  1.2110353 ,\n",
       "        6.996067  ,  6.041851  ,  7.955485  ,  3.3749886 ,  9.0804    ,\n",
       "        5.4823003 ,  3.6090188 ,  0.29456648,  6.7301154 ,  4.945892  ,\n",
       "        0.78090763,  3.333691  ,  9.411411  ,  8.45279   ,  6.165317  ,\n",
       "        5.3108025 ,  5.735136  ,  6.6922646 , 10.96574   ,  3.0616992 ,\n",
       "        3.7049897 ,  5.9777803 ,  6.84106   ,  8.411142  ,  3.9769664 ,\n",
       "        5.616768  ,  6.9031935 ,  5.88027   ,  1.4673321 ,  1.2641491 ,\n",
       "        3.1946805 ,  2.8993654 , 11.0619    ,  1.133021  ,  2.479341  ,\n",
       "        7.1394114 ,  5.838411  ,  5.9478974 ,  2.9897153 ,  7.1564803 ,\n",
       "        6.2886643 ,  2.5229857 ,  8.073617  ,  8.455982  ,  2.826751  ,\n",
       "        6.8592477 ,  5.1763926 ,  7.1245217 ,  7.902023  ,  3.5092402 ,\n",
       "        1.9111991 ,  8.811546  ,  4.0778203 , 10.926879  ,  3.1624405 ,\n",
       "        7.967464  ,  6.808093  ,  6.8968534 ,  1.91419   ,  4.7793436 ,\n",
       "        9.577796  ,  6.0509057 ,  1.4419485 , 10.925624  ,  7.4243674 ,\n",
       "        5.581505  ,  6.0766664 ,  0.7262864 ,  3.4202173 ,  4.5582414 ,\n",
       "        0.9642289 ,  2.641981  ,  4.096115  ,  5.635631  ,  1.8158431 ,\n",
       "        6.050443  ,  2.360829  ,  4.0959864 ,  4.230056  ,  3.4219482 ,\n",
       "        1.6286888 ,  1.3160701 , 10.1472435 ,  8.913481  ,  7.7216244 ,\n",
       "        6.6234264 ,  4.4863696 ,  5.8192477 ,  3.2696078 ,  5.8403664 ,\n",
       "        0.9601436 ,  6.1922216 ,  2.4727132 ,  1.4386232 ,  3.2458417 ,\n",
       "        2.3824832 ,  2.366852  ,  4.5590396 ,  4.214043  ,  3.05022   ,\n",
       "        2.3274589 ,  1.7162147 ,  3.1947453 ,  3.5027235 ,  3.1354055 ,\n",
       "        2.930302  ,  5.8121514 ,  0.54963666,  0.8375855 ,  1.3940545 ,\n",
       "        3.932583  ,  0.46726185,  2.1297448 ,  5.7727532 ,  2.433993  ,\n",
       "        5.8784485 ,  4.231934  ,  9.675077  ,  5.661649  ,  4.5143824 ,\n",
       "        3.1183288 ,  4.526863  ,  3.7257261 ,  6.6035476 ,  0.9445562 ,\n",
       "        5.6906734 ,  4.9433465 ,  3.157096  ,  2.8398213 ,  3.803731  ,\n",
       "        2.857858  ,  3.0494363 ,  6.681461  ,  5.9703913 ,  3.4961698 ,\n",
       "        6.108658  ,  1.3168879 ,  2.1667314 ,  0.477475  ,  5.4365554 ,\n",
       "        3.1630008 ,  1.9726503 ,  2.002316  ,  4.0450597 ,  4.1012383 ,\n",
       "        3.011788  ,  2.4546194 ,  3.3309615 ,  4.417154  ,  2.6812766 ,\n",
       "        0.37234583,  0.6233583 ,  1.101851  ,  5.053067  ,  6.099545  ,\n",
       "        6.0221925 ,  2.4953995 ,  3.0591109 ,  2.6068819 ,  1.4867448 ,\n",
       "        4.5943933 ,  3.8882244 ,  1.4498343 ,  5.1698146 ,  3.8910944 ,\n",
       "        2.8207448 ,  3.9469101 ,  2.54022   ,  2.0082152 ,  6.8548636 ,\n",
       "        3.9541905 ,  2.720206  ,  3.632456  ,  1.652096  ,  4.1836085 ,\n",
       "        3.818299  ,  3.140507  ,  1.1647704 ,  3.1350381 ,  0.9855295 ,\n",
       "        6.4681187 ,  2.8640494 ,  4.1753006 ,  3.7198312 ,  0.6262474 ,\n",
       "        2.7902515 ,  6.432637  ,  2.0270293 ,  0.6500898 ,  2.2399228 ,\n",
       "        3.1616132 ,  5.2272983 ,  0.45517033,  1.856049  ,  2.0380833 ,\n",
       "        1.5617282 ,  2.5903745 ,  1.8991866 ,  1.8812581 ,  4.306052  ,\n",
       "        5.0450764 ,  1.4057362 ,  3.2621665 ,  5.3984237 ,  5.0088058 ,\n",
       "        3.3124936 ,  6.132102  ,  7.149951  ,  1.6225587 ,  6.147487  ,\n",
       "        7.611208  ,  2.4900057 ,  2.6709034 ,  3.2458496 ,  4.8069463 ,\n",
       "        5.314336  ,  2.8095891 ,  0.5087244 ,  6.3565693 ,  0.84584963,\n",
       "        4.1162186 ,  3.9103017 , 12.471359  ,  1.3312624 ,  0.7647813 ,\n",
       "        3.8304126 ,  5.076302  ,  7.4294105 ,  4.458445  ,  2.7363117 ,\n",
       "        1.7187902 ,  4.5011034 ,  2.516967  , 10.3179035 ,  4.8969135 ,\n",
       "        4.9409494 ,  3.932898  ,  3.1643226 ,  4.5782895 ,  6.375131  ,\n",
       "        7.5701413 ,  3.393282  ,  4.983839  ,  2.707311  ,  5.477486  ,\n",
       "        4.1692796 ,  5.035792  ,  0.8021861 ,  3.6190853 ,  4.1122265 ,\n",
       "        0.24550205,  1.8696891 ,  4.2945957 ,  1.2501698 ,  1.641641  ,\n",
       "        6.9179    ,  1.7685467 ,  1.7124543 ,  3.1818788 ,  1.6940978 ,\n",
       "        5.3641367 ,  2.981528  ,  1.5732659 ,  2.0077567 ,  2.070549  ,\n",
       "        3.178438  ,  2.5914662 ,  2.9156768 ,  2.1889422 ,  1.9480436 ,\n",
       "        0.8300288 ,  3.9403882 ,  0.09804026,  3.8514967 ,  0.97054535,\n",
       "        0.9169355 ,  4.342106  ,  2.4881315 ,  4.1831594 ,  6.8483806 ,\n",
       "        1.7090257 ,  0.6215849 ,  1.0078708 ,  1.546959  ,  0.60170394,\n",
       "        2.1149256 ,  0.59823513,  0.19533929,  2.7968593 ,  0.07625872,\n",
       "        0.4468096 ,  4.268037  ,  2.5552187 ,  3.446093  ,  3.0010326 ,\n",
       "        4.4466515 ,  1.9953365 ,  1.8978474 ,  3.5974538 ,  3.4274085 ,\n",
       "        0.49397755,  1.2334505 ,  0.8455073 ,  5.4617963 ,  3.6621277 ,\n",
       "        3.353224  ,  3.2409477 ,  1.354716  ,  2.091787  ,  1.0250696 ,\n",
       "        2.8430681 ,  3.2976792 ,  0.10483025,  2.61005   ,  1.8308548 ,\n",
       "        2.6745043 ,  2.9086099 ,  4.1319237 ,  2.3407772 ,  1.843236  ,\n",
       "        0.62258863,  3.2960577 ,  2.4270067 ,  3.5188744 ,  0.9482532 ,\n",
       "        0.47602087,  2.2644844 ,  2.585895  ,  2.9752297 ,  3.1513288 ,\n",
       "        3.1698167 ,  0.30160144,  2.8924978 ,  0.88308066,  0.39464384,\n",
       "        3.7772567 ,  4.0624223 ,  3.8724844 ,  3.738031  ,  2.4580705 ,\n",
       "        0.9813474 ,  2.0448704 ,  1.0409422 ,  2.449726  ,  1.5055422 ,\n",
       "        1.6620717 ,  1.2020751 ,  2.3350136 ,  4.6014605 ,  1.9657629 ,\n",
       "        3.1221943 ,  3.0662127 ,  4.3183093 ,  4.7115297 ,  2.9354641 ,\n",
       "        3.2766726 ,  3.0275378 ,  4.049697  ,  2.6002645 ,  2.2184474 ,\n",
       "        0.43977302,  1.1785078 ,  1.9298534 ,  4.837159  ,  3.6062737 ,\n",
       "        1.7886305 ,  0.7362581 ,  0.8312776 ,  1.5058883 ,  2.3148315 ,\n",
       "        2.7092829 ,  2.8744502 ,  0.55063105,  0.9182635 ,  0.62683237,\n",
       "        3.3542135 ,  0.03874259,  2.3859937 ,  0.12956274,  0.8258505 ,\n",
       "        2.3722951 ,  1.1561304 ,  1.8934742 ,  1.5894    ,  1.1149017 ,\n",
       "        1.3033254 ,  3.636734  ,  2.1624055 ,  1.1035721 ,  2.3037279 ,\n",
       "        1.7777892 ,  0.11808594,  2.300087  ,  2.7687418 ,  1.3481858 ,\n",
       "        1.9072468 ,  0.5726638 ,  1.2622313 ,  1.6883714 ,  1.1782068 ,\n",
       "        2.9694562 ,  4.0940194 ,  2.324492  ,  0.44863498,  0.11079865,\n",
       "        3.056423  ,  0.70917827,  0.78765464,  1.5638834 ,  2.4286065 ,\n",
       "        1.4340731 ,  1.1510234 ,  0.16445436], dtype=float32)"
      ]
     },
     "execution_count": 17,
     "metadata": {},
     "output_type": "execute_result"
    }
   ],
   "source": [
    "max_pred = np.max(predictions, axis=1)\n",
    "max_pred"
   ]
  },
  {
   "cell_type": "code",
   "execution_count": null,
   "metadata": {},
   "outputs": [],
   "source": []
  },
  {
   "cell_type": "code",
   "execution_count": null,
   "metadata": {},
   "outputs": [],
   "source": []
  }
 ],
 "metadata": {
  "kernelspec": {
   "display_name": "venv",
   "language": "python",
   "name": "python3"
  },
  "language_info": {
   "codemirror_mode": {
    "name": "ipython",
    "version": 3
   },
   "file_extension": ".py",
   "mimetype": "text/x-python",
   "name": "python",
   "nbconvert_exporter": "python",
   "pygments_lexer": "ipython3",
   "version": "3.11.1"
  }
 },
 "nbformat": 4,
 "nbformat_minor": 2
}
